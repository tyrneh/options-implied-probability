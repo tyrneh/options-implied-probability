{
 "cells": [
  {
   "cell_type": "code",
   "execution_count": null,
   "metadata": {},
   "outputs": [],
   "source": "from oipd import RND\nfrom datetime import datetime\nimport matplotlib.pyplot as plt"
  },
  {
   "cell_type": "code",
   "execution_count": null,
   "metadata": {},
   "outputs": [],
   "source": "# --- example 1 - NVIDIA --- #\n\ninput_csv_path = \"data/nvidia_date20250303_strikedate20250516_price11790.csv\"\nspot_price = 117.90\nvaluation_date = \"2025-03-03\"\nstrike_date = \"2025-05-16\"\n# Convert the strings to datetime objects\nvaluation_date_dt = datetime.strptime(valuation_date, \"%Y-%m-%d\")\nstrike_date_dt = datetime.strptime(strike_date, \"%Y-%m-%d\")\n# Calculate the difference in days\ndays_difference = (strike_date_dt - valuation_date_dt).days\nprint(days_difference)"
  },
  {
   "cell_type": "code",
   "execution_count": null,
   "metadata": {},
   "outputs": [],
   "source": "column_mapping={\n    \"Strike\": \"strike\",\n    \"Last Price\": \"last_price\",\n    \"Bid\": \"bid\",\n    \"Ask\": \"ask\"\n    }\n\n# Create RND estimator and load data\nestimator = RND()\nresult = estimator.from_csv(\n    input_csv_path,\n    spot_price=float(spot_price),\n    days_to_expiry=int(days_difference),\n    risk_free_rate=0.03,\n    column_mapping=column_mapping\n)\n\n# Access the results\nnvidia_prices = result.prices\nnvidia_pdf = result.pdf\nnvidia_cdf = result.cdf"
  },
  {
   "cell_type": "code",
   "execution_count": null,
   "metadata": {},
   "outputs": [],
   "source": "# Plot probability density function\nplt.figure(figsize=(8, 5))\nplt.plot(nvidia_prices, nvidia_pdf, label=\"Implied PDF\", color=\"cyan\", alpha=0.7)\n# Add a vertical line at spot price\nplt.axvline(x=spot_price, color=\"white\", linestyle=\"--\")\n# Add annotation for clarity\nplt.text(spot_price, max(nvidia_pdf) * 0.3, f\"Spot price on\\n Mar 3 2025: {spot_price}\", \n         color=\"white\", fontsize=12, ha=\"left\", va=\"top\")\n# Labels and title\nplt.xlabel(\"Price\")\nplt.ylabel(\"Density\")\n# plt.legend()\nplt.title(\"Implied probability dist of NVIDIA on May 16 2025\")\n# Show the plot\nplt.show()"
  },
  {
   "cell_type": "code",
   "execution_count": null,
   "metadata": {},
   "outputs": [],
   "source": "# --- Example 2 - SPY --- #\n\ninput_csv_path = \"data/spy_date20250128_strike20250228_price60444.csv\"\nspot_price = 593.83\nvaluation_date = \"2025-03-03\"\nstrike_date = \"2025-05-16\"\n# Convert the strings to datetime objects\nvaluation_date_dt = datetime.strptime(valuation_date, \"%Y-%m-%d\")\nstrike_date_dt = datetime.strptime(strike_date, \"%Y-%m-%d\")\n# Calculate the difference in days\ndays_difference = (strike_date_dt - valuation_date_dt).days"
  },
  {
   "cell_type": "code",
   "execution_count": null,
   "metadata": {},
   "outputs": [],
   "source": "# Create RND estimator and load data\nestimator = RND()\nresult = estimator.from_csv(\n    input_csv_path,\n    spot_price=float(spot_price),\n    days_to_expiry=int(days_difference),\n    risk_free_rate=0.03,\n    column_mapping=column_mapping\n)\n\n# Access the results  \nspy_prices = result.prices\nspy_pdf = result.pdf\nspy_cdf = result.cdf"
  },
  {
   "cell_type": "code",
   "execution_count": null,
   "metadata": {},
   "outputs": [],
   "source": "# Plot probability density function\nplt.figure(figsize=(8, 5))\nplt.plot(spy_prices, spy_pdf, label=\"Implied PDF\", color=\"cyan\", alpha=0.7)\n# Add a vertical line at spot price\nplt.axvline(x=spot_price, color=\"white\", linestyle=\"--\")\n# Add annotation for clarity\nplt.text(spot_price, max(spy_pdf) * 0.3, \"Spot price on\\n Mar 3 2025: \"+str(spot_price), \n         color=\"white\", fontsize=12, ha=\"left\", va=\"top\")\n# Labels and title\nplt.xlabel(\"Price\")\nplt.ylabel(\"Density\")\n# plt.legend()\nplt.title(\"Implied probability dist of SPY on May 16 2025\")\n# Show the plot\nplt.show()"
  },
  {
   "cell_type": "code",
   "execution_count": null,
   "metadata": {},
   "outputs": [],
   "source": "# --- Example 3 - US Steel in Mar --- #\ninput_csv_path = \"data/ussteel_date20250303_strike20251219_price3939.csv\"\nspot_price = 39.39\nvaluation_date = \"2025-03-03\"\nstrike_date = \"2025-12-19\"\n# Convert the strings to datetime objects\nvaluation_date_dt = datetime.strptime(valuation_date, \"%Y-%m-%d\")\nstrike_date_dt = datetime.strptime(strike_date, \"%Y-%m-%d\")\n# Calculate the difference in days\ndays_difference = (strike_date_dt - valuation_date_dt).days"
  },
  {
   "cell_type": "code",
   "execution_count": null,
   "metadata": {},
   "outputs": [],
   "source": "# Create RND estimator and load data\nestimator = RND()\nresult = estimator.from_csv(\n    input_csv_path,\n    spot_price=float(spot_price),\n    days_to_expiry=int(days_difference),\n    risk_free_rate=0.03,\n    column_mapping=column_mapping\n)\n\n# Access the results\nussteel_prices = result.prices\nussteel_pdf = result.pdf\nussteel_cdf = result.cdf"
  },
  {
   "cell_type": "code",
   "execution_count": null,
   "metadata": {},
   "outputs": [],
   "source": "# Plot probability density function\nplt.figure(figsize=(8, 5))\nplt.plot(ussteel_prices, ussteel_pdf, label=\"Implied PDF\", color=\"cyan\", alpha=0.7)\n# Add a vertical line at spot price\nplt.axvline(x=spot_price, color=\"white\", linestyle=\"--\")\n# Add annotation for clarity\nplt.text(spot_price, max(ussteel_pdf) * 0.3, \"Spot price on\\n Mar 3 2025: \"+str(spot_price), \n         color=\"white\", fontsize=12, ha=\"left\", va=\"top\")\n# Labels and title\nplt.xlabel(\"Price\")\nplt.ylabel(\"Density\")\n# plt.legend()\nplt.title(\"Implied probability dist of US Steel on Dec 19 2025\")\n# Show the plot\nplt.show()"
  },
  {
   "cell_type": "code",
   "execution_count": null,
   "metadata": {},
   "outputs": [],
   "source": "# Create a DataFrame to display results where price >= 55\nimport pandas as pd\nresults_df = pd.DataFrame({\n    'Price': ussteel_prices,\n    'PDF': ussteel_pdf,\n    'CDF': ussteel_cdf\n})\nresults_df[results_df['Price'] >= 55]"
  }
 ],
 "metadata": {
  "kernelspec": {
   "display_name": ".venv",
   "language": "python",
   "name": "python3"
  },
  "language_info": {
   "codemirror_mode": {
    "name": "ipython",
    "version": 3
   },
   "file_extension": ".py",
   "mimetype": "text/x-python",
   "name": "python",
   "nbconvert_exporter": "python",
   "pygments_lexer": "ipython3",
   "version": "3.13.5"
  }
 },
 "nbformat": 4,
 "nbformat_minor": 2
}